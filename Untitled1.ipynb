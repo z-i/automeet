{
 "cells": [
  {
   "cell_type": "code",
   "execution_count": 1,
   "metadata": {
    "collapsed": true
   },
   "outputs": [],
   "source": [
    "import boto3\n",
    "\n",
    "dynamodb = boto3.resource('dynamodb')\n",
    "table = dynamodb.Table('users')"
   ]
  },
  {
   "cell_type": "code",
   "execution_count": 19,
   "metadata": {
    "collapsed": true
   },
   "outputs": [],
   "source": [
    "from oauth2client.client import OAuth2WebServerFlow, OAuth2Credentials\n",
    "from apiclient import discovery\n",
    "from oauth2client import client\n",
    "from oauth2client import tools\n",
    "import httplib2\n",
    "import json"
   ]
  },
  {
   "cell_type": "code",
   "execution_count": 3,
   "metadata": {
    "collapsed": true
   },
   "outputs": [],
   "source": [
    "user_id = '115974855826456350106'"
   ]
  },
  {
   "cell_type": "code",
   "execution_count": 5,
   "metadata": {
    "collapsed": false
   },
   "outputs": [],
   "source": [
    "x = table.get_item(\n",
    "        Key = {\n",
    "            'user_id': user_id\n",
    "        }\n",
    "    )"
   ]
  },
  {
   "cell_type": "code",
   "execution_count": 8,
   "metadata": {
    "collapsed": false
   },
   "outputs": [
    {
     "data": {
      "text/plain": [
       "str"
      ]
     },
     "execution_count": 8,
     "metadata": {},
     "output_type": "execute_result"
    }
   ],
   "source": [
    "type(x['Item']['tokens'])"
   ]
  },
  {
   "cell_type": "code",
   "execution_count": 10,
   "metadata": {
    "collapsed": false
   },
   "outputs": [],
   "source": [
    "cred =  OAuth2Credentials.from_json(x['Item']['tokens'])"
   ]
  },
  {
   "cell_type": "code",
   "execution_count": 14,
   "metadata": {
    "collapsed": false
   },
   "outputs": [],
   "source": [
    "http = cred.authorize(httplib2.Http())\n",
    "service = discovery.build('calendar', 'v3', http=http)"
   ]
  },
  {
   "cell_type": "code",
   "execution_count": 16,
   "metadata": {
    "collapsed": false
   },
   "outputs": [],
   "source": [
    "car = service.calendarList().list().execute()"
   ]
  },
  {
   "cell_type": "code",
   "execution_count": 24,
   "metadata": {
    "collapsed": false
   },
   "outputs": [
    {
     "data": {
      "text/plain": [
       "['1npudoesfd8f12m32eov8hl52k@group.calendar.google.com',\n",
       " 'feoigdpmjupo1rfu7huvarfkb4@group.calendar.google.com',\n",
       " 'm6j9v3k80ng4i24vhfhnv8tbg4@group.calendar.google.com',\n",
       " 'zui@bu.edu',\n",
       " 'pm0h70sabgvmrmv2r67ghgopl4ur094h@import.calendar.google.com',\n",
       " '8m49kpn8rjdmt5fdgiublk1u2ko0pg39@import.calendar.google.com',\n",
       " 'zuikng@gmail.com',\n",
       " 'bu.edu_ptl3447uttgn0gmems4tr178no@group.calendar.google.com',\n",
       " '#contacts@group.v.calendar.google.com',\n",
       " 'en.usa#holiday@group.v.calendar.google.com']"
      ]
     },
     "execution_count": 24,
     "metadata": {},
     "output_type": "execute_result"
    }
   ],
   "source": [
    "[x['id'] for x in (car['items'])]"
   ]
  },
  {
   "cell_type": "code",
   "execution_count": 22,
   "metadata": {
    "collapsed": false
   },
   "outputs": [
    {
     "data": {
      "text/plain": [
       "dict"
      ]
     },
     "execution_count": 22,
     "metadata": {},
     "output_type": "execute_result"
    }
   ],
   "source": [
    "type(car)"
   ]
  },
  {
   "cell_type": "code",
   "execution_count": 23,
   "metadata": {
    "collapsed": false
   },
   "outputs": [
    {
     "data": {
      "text/plain": [
       "{'etag': '\"p320a7048unmsu0g\"',\n",
       " 'items': [{'accessRole': 'reader',\n",
       "   'backgroundColor': '#d06b64',\n",
       "   'colorId': '2',\n",
       "   'defaultReminders': [],\n",
       "   'description': 'Assignemnt Calendar',\n",
       "   'etag': '\"1470681711000000\"',\n",
       "   'foregroundColor': '#000000',\n",
       "   'id': '1npudoesfd8f12m32eov8hl52k@group.calendar.google.com',\n",
       "   'kind': 'calendar#calendarListEntry',\n",
       "   'summary': 'Advanced Precalculus - BC',\n",
       "   'timeZone': 'America/New_York'},\n",
       "  {'accessRole': 'reader',\n",
       "   'backgroundColor': '#f691b2',\n",
       "   'colorId': '22',\n",
       "   'defaultReminders': [],\n",
       "   'description': 'Course Assignment Calendar',\n",
       "   'etag': '\"1470681709856000\"',\n",
       "   'foregroundColor': '#000000',\n",
       "   'id': 'feoigdpmjupo1rfu7huvarfkb4@group.calendar.google.com',\n",
       "   'kind': 'calendar#calendarListEntry',\n",
       "   'summary': 'AP Calculus - BC',\n",
       "   'timeZone': 'America/New_York'},\n",
       "  {'accessRole': 'owner',\n",
       "   'backgroundColor': '#cca6ac',\n",
       "   'colorId': '21',\n",
       "   'defaultReminders': [],\n",
       "   'description': 'Replacement for the agenda',\n",
       "   'etag': '\"1473566411738000\"',\n",
       "   'foregroundColor': '#000000',\n",
       "   'id': 'm6j9v3k80ng4i24vhfhnv8tbg4@group.calendar.google.com',\n",
       "   'kind': 'calendar#calendarListEntry',\n",
       "   'location': 'Boston Latin School, 78 Avenue Louis Pasteur, Boston, MA 02115',\n",
       "   'summary': 'BLS',\n",
       "   'timeZone': 'America/New_York'},\n",
       "  {'accessRole': 'writer',\n",
       "   'backgroundColor': '#b99aff',\n",
       "   'colorId': '18',\n",
       "   'defaultReminders': [],\n",
       "   'description': 'Other engagements',\n",
       "   'etag': '\"1477109994069000\"',\n",
       "   'foregroundColor': '#000000',\n",
       "   'id': 'zui@bu.edu',\n",
       "   'kind': 'calendar#calendarListEntry',\n",
       "   'selected': True,\n",
       "   'summary': 'Others',\n",
       "   'timeZone': 'America/New_York'},\n",
       "  {'accessRole': 'reader',\n",
       "   'backgroundColor': '#cd74e6',\n",
       "   'colorId': '23',\n",
       "   'defaultReminders': [],\n",
       "   'etag': '\"1476334054722000\"',\n",
       "   'foregroundColor': '#000000',\n",
       "   'id': 'pm0h70sabgvmrmv2r67ghgopl4ur094h@import.calendar.google.com',\n",
       "   'kind': 'calendar#calendarListEntry',\n",
       "   'selected': True,\n",
       "   'summary': 'Calendar',\n",
       "   'summaryOverride': 'Live Calendar',\n",
       "   'timeZone': 'UTC'},\n",
       "  {'accessRole': 'reader',\n",
       "   'backgroundColor': '#42d692',\n",
       "   'colorId': '7',\n",
       "   'defaultReminders': [],\n",
       "   'etag': '\"1473900313328000\"',\n",
       "   'foregroundColor': '#000000',\n",
       "   'id': '8m49kpn8rjdmt5fdgiublk1u2ko0pg39@import.calendar.google.com',\n",
       "   'kind': 'calendar#calendarListEntry',\n",
       "   'selected': True,\n",
       "   'summary': \"Friends' Birthdays\",\n",
       "   'summaryOverride': \"Facebook's friends birthday\",\n",
       "   'timeZone': 'UTC'},\n",
       "  {'accessRole': 'owner',\n",
       "   'backgroundColor': '#fad165',\n",
       "   'colorId': '12',\n",
       "   'defaultReminders': [{'method': 'popup', 'minutes': 30},\n",
       "    {'method': 'popup', 'minutes': 10},\n",
       "    {'method': 'email', 'minutes': 30}],\n",
       "   'etag': '\"1473900097655000\"',\n",
       "   'foregroundColor': '#000000',\n",
       "   'id': 'zuikng@gmail.com',\n",
       "   'kind': 'calendar#calendarListEntry',\n",
       "   'notificationSettings': {'notifications': [{'method': 'email',\n",
       "      'type': 'eventCreation'},\n",
       "     {'method': 'email', 'type': 'eventChange'},\n",
       "     {'method': 'email', 'type': 'eventCancellation'},\n",
       "     {'method': 'email', 'type': 'eventResponse'}]},\n",
       "   'primary': True,\n",
       "   'selected': True,\n",
       "   'summary': 'zuikng@gmail.com',\n",
       "   'timeZone': 'America/New_York'},\n",
       "  {'accessRole': 'writer',\n",
       "   'backgroundColor': '#cabdbf',\n",
       "   'colorId': '20',\n",
       "   'defaultReminders': [],\n",
       "   'description': 'Classes and school related events',\n",
       "   'etag': '\"1477109988964000\"',\n",
       "   'foregroundColor': '#000000',\n",
       "   'id': 'bu.edu_ptl3447uttgn0gmems4tr178no@group.calendar.google.com',\n",
       "   'kind': 'calendar#calendarListEntry',\n",
       "   'selected': True,\n",
       "   'summary': 'School',\n",
       "   'timeZone': 'America/New_York'},\n",
       "  {'accessRole': 'reader',\n",
       "   'backgroundColor': '#9fc6e7',\n",
       "   'colorId': '15',\n",
       "   'defaultReminders': [],\n",
       "   'etag': '\"1473900103128000\"',\n",
       "   'foregroundColor': '#000000',\n",
       "   'id': '#contacts@group.v.calendar.google.com',\n",
       "   'kind': 'calendar#calendarListEntry',\n",
       "   'selected': True,\n",
       "   'summary': 'Contacts',\n",
       "   'timeZone': 'America/New_York'},\n",
       "  {'accessRole': 'reader',\n",
       "   'backgroundColor': '#42d692',\n",
       "   'colorId': '7',\n",
       "   'defaultReminders': [],\n",
       "   'etag': '\"1473600940127000\"',\n",
       "   'foregroundColor': '#000000',\n",
       "   'id': 'en.usa#holiday@group.v.calendar.google.com',\n",
       "   'kind': 'calendar#calendarListEntry',\n",
       "   'selected': True,\n",
       "   'summary': 'Holidays in United States',\n",
       "   'timeZone': 'America/New_York'}],\n",
       " 'kind': 'calendar#calendarList',\n",
       " 'nextSyncToken': 'CICjgIj17c8CEhB6dWlrbmdAZ21haWwuY29t'}"
      ]
     },
     "execution_count": 23,
     "metadata": {},
     "output_type": "execute_result"
    }
   ],
   "source": [
    "car"
   ]
  },
  {
   "cell_type": "code",
   "execution_count": null,
   "metadata": {
    "collapsed": true
   },
   "outputs": [],
   "source": []
  }
 ],
 "metadata": {
  "kernelspec": {
   "display_name": "Python 3",
   "language": "python",
   "name": "python3"
  },
  "language_info": {
   "codemirror_mode": {
    "name": "ipython",
    "version": 3
   },
   "file_extension": ".py",
   "mimetype": "text/x-python",
   "name": "python",
   "nbconvert_exporter": "python",
   "pygments_lexer": "ipython3",
   "version": "3.5.2"
  }
 },
 "nbformat": 4,
 "nbformat_minor": 1
}
